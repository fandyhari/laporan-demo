{
 "cells": [
  {
   "cell_type": "markdown",
   "metadata": {},
   "source": [
    "# Fandy Hari Ramadhan 180441100080\n",
    "# Novel Ramadhan 1804411100067"
   ]
  },
  {
   "cell_type": "markdown",
   "metadata": {},
   "source": [
    "<img src=\"001.jpg\">\n",
    "\n",
    "# apa itu kivy?\n",
    "\n",
    "Apa Itu Kivy?\n",
    "Kivy adalah sebuah cross platform python framework yang dipergunakan untuk membuat aplikasi yang dapat dijalankan di platform desktop, dan mobile. Kivy didukung oleh Mac, Windows, dan Linux di tataran dekstop. Sedangkan di tataran mobile, Kivy didukung oleh Android dan iOS. Dengan Kivy, Anda tidak perlu khawatir untuk membuat sebuah aplikasi. Dengan menggunakan bahasa pemrograman Python, maka dengan source code yang sama dapat mendistribusikan aplikasi yang kita bangun menggunakan Kivy.\n",
    "\n",
    "# kelebihan kivy\n",
    "Berikut adalah beberapa kelebihan Kivy\n",
    "\n",
    "1. Cross-platform, code once run anywhere.\n",
    "2. Support berbagai ragam input device dan juga multitouch support.\n",
    "3. Menggunakan OpenGL ES sebagai graphics engine-nya.\n",
    "4. Menggunakan bahasa Python, cocok bagi pemula seperti saya.\n",
    "5. 3rd party Python library goodness!\n",
    "\n",
    "# kelemahan kivy\n",
    "Dibalik banyak kelebihan, Kivy juga mempunyai beberapa kelemahan.\n",
    "\n",
    "1. tidak memiliki 100% API support pada iOS (plyer).\n",
    "2. Memiliki startup time yang agak sedikit lebih lama daripada aplikasi native dikarenakan menggunakan wrapper dan Python.\n",
    "3. Tentunya memiliki performa dibawah aplikasi native, namun tidak akan terasa jika hanya sebatas game ringan atau everyday apps.\n",
    "\n",
    "Menurut saya, Kivy cocok untuk project kecil-kecilan dan pribadi, namun bisa dikembangkan ke arah komersil."
   ]
  },
  {
   "cell_type": "markdown",
   "metadata": {},
   "source": [
    "# langkah langkah menginstal kivy\n",
    "\n",
    "Menginstal kivy sebenarnya gampang-gampang susah, caranya sebenarnya sudah ada di dokumentasi resmi kivy di sini. tapi masih banyak orang yang mengalami kegagalan dan kebingungan saat melakukan instalasi kivy. Disini saya mencoba untuk memberikan langkah menginstalasi kivy dengan mudah. sebelum melakukan instalasi kivy ada package package Python yang perlu kita install terlebih dahulu. dalam proses instalasi ini saya menggunakan windows 7 64 bit.\n",
    "\n",
    "Langkah 1.\n",
    "mendownload aplikasi Python di sini, versi python ada 2 jenis yaitu versi python 3.5 dan versi python 2.7. Dalam proses instalasi ini saya menggunakan python 3.5.\n",
    "\n",
    "<img src=\"003.jpg\">\n",
    "\n",
    "Langkah 2.\n",
    "setelah mendownload aplikasi python, langsung langkukan proses instalasi python dan tunggu proses instalasi python sampai selesai.\n",
    "\n",
    "<img src=\"004.jpg\">\n",
    "\n",
    "Langkah 3.\n",
    "masuk ke CMD (Command Prompt) dengan cara menekan tombol Windows lalu ketik CMD atau dengan cara klik start, assesoris,  pilih commad promt. Maka akan masuk ke dalam kotak dialog Commad prompt. setelah masuk isikan coding sesuaikan seperti gambar yang ada di bawah ini.\n",
    "\n",
    "<img src=\"005.jpg\">\n",
    "<img src=\"006.jpg\">\n",
    "<img src=\"007.jpg\">\n",
    "\n",
    "setelah proses instalasi selesai semua, maka bisa langsung di pakai. Untuk editornya bisa menggunakan IDLE. SEKIAN TRIMAKASI.\n"
   ]
  },
  {
   "cell_type": "markdown",
   "metadata": {},
   "source": [
    "Pada kali ini saya akan membuat program dengan aplicator kivy yaitu Snake Game, berikut code dari snake game:\n",
    "\n",
    "<img src=\"009.png\">"
   ]
  },
  {
   "cell_type": "markdown",
   "metadata": {},
   "source": [
    "# tampilan snake\n",
    "\n",
    "<img src=\"008.png\">"
   ]
  },
  {
   "cell_type": "markdown",
   "metadata": {},
   "source": [
    "# code snake kivy"
   ]
  },
  {
   "cell_type": "code",
   "execution_count": null,
   "metadata": {},
   "outputs": [],
   "source": [
    "from kivy.metrics import sp\n",
    "from kivy.app import App\n",
    "from kivy.core.window import Window\n",
    "from kivy.clock import Clock\n",
    "from kivy import properties as kp\n",
    "from kivy.uix.widget import Widget\n",
    "from collections import defaultdict\n",
    "from kivy.animation import Animation\n",
    "from random import randint\n",
    "\n",
    "\n",
    "\n",
    "SPRITE_SIZE=sp(20)\n",
    "COLS=int(Window.width/SPRITE_SIZE)\n",
    "ROWS=int(Window.height/SPRITE_SIZE)\n",
    "LENGHT= 4\n",
    "MOVESPEED= .1\n",
    "LEFT = 'left'\n",
    "UP= 'up'\n",
    "RIGHT= 'right'\n",
    "DOWN= 'down'\n",
    "ALPHA=.5\n",
    "direction_group={LEFT: 'horizontal',\n",
    "                 UP: 'vertical',\n",
    "                 RIGHT: 'horizontal',\n",
    "                 DOWN: 'vertical'}\n",
    "\n",
    "direction_values={LEFT:[-1,0],\n",
    "                  UP:[0,1],\n",
    "                  RIGHT:[1,0],\n",
    "                  DOWN:[0,-1]}\n",
    "direction_keys={'a' : LEFT,\n",
    "                'w' : UP,\n",
    "                's' : DOWN,\n",
    "                'd' : RIGHT}\n",
    "\n",
    "class Sprite(Widget):\n",
    "    coord=kp.ListProperty([0,0])\n",
    "    bgcolor=kp.ListProperty([0,0,0,0])\n",
    "\n",
    "SPRITES=defaultdict(lambda :Sprite())\n",
    "\n",
    "class Fruit(Sprite):\n",
    "    pass\n",
    "\n",
    "class Snake(App):\n",
    "\n",
    "    sprite_size=kp.NumericProperty(SPRITE_SIZE)\n",
    "\n",
    "    head=kp.ListProperty([0,0])\n",
    "    snake=kp.ListProperty()\n",
    "    lenght=kp.NumericProperty(LENGHT)\n",
    "\n",
    "    fruit=kp.ListProperty([0,0])\n",
    "    fruit_sprite = kp.ObjectProperty(Fruit)\n",
    "\n",
    "    direction=kp.StringProperty(RIGHT,options=(LEFT,UP,RIGHT,DOWN))\n",
    "    block_input = kp.BooleanProperty(False)\n",
    "\n",
    "    alpha=kp.NumericProperty(0)\n",
    "\n",
    "    def on_head(self,*args):\n",
    "        self.snake = self.snake[-self.lenght:]+[self.head]\n",
    "\n",
    "    def on_snake(self,*args):\n",
    "        for index,coord in enumerate(self.snake):\n",
    "            sprite= SPRITES[index]\n",
    "            sprite.coord=coord\n",
    "            if not sprite.parent:\n",
    "                self.root.add_widget(sprite)\n",
    "\n",
    "    def on_start(self):\n",
    "        self.fruit_sprite = Fruit()\n",
    "        self.fruit = self.new_fruit_location\n",
    "        self.head = self.new_head_location\n",
    "        Clock.schedule_interval(self.move,MOVESPEED)\n",
    "        Window.bind(on_keyboard=self.key_handler)\n",
    "\n",
    "    def on_fruit(self, *args):\n",
    "        self.fruit_sprite.coord = self.fruit\n",
    "        if not self.fruit_sprite.parent:\n",
    "            self.root.add_widget(self.fruit_sprite)\n",
    "\n",
    "    def key_handler(self,_,__,___,key,*____):\n",
    "        try:\n",
    "            self.try_change_direction(direction_keys[key])\n",
    "        except KeyError:\n",
    "            pass\n",
    "\n",
    "    def try_change_direction(self,new_direction):\n",
    "        if direction_group[new_direction] !=direction_group[self.direction]:\n",
    "            self.direction=new_direction\n",
    "\n",
    "    @property\n",
    "    def new_head_location(self):\n",
    "        return [randint(2,dim-2)for dim in [COLS,ROWS]]\n",
    "\n",
    "    @property\n",
    "    def new_fruit_location(self):\n",
    "        while True:\n",
    "            fruit = [randint(0, dim ) for dim in [COLS, ROWS]]\n",
    "            if fruit not in self.snake and fruit != self.fruit:\n",
    "                return fruit\n",
    "\n",
    "    def move(self, *args):\n",
    "        new_head = [sum(x) for x in zip(self.head, direction_values[self.direction])]\n",
    "        if not self.check_in_bounds(new_head) or new_head in self.snake:\n",
    "            return self.die()\n",
    "        if new_head == self.fruit:\n",
    "            self.lenght += 1\n",
    "            self.fruit = self.new_fruit_location\n",
    "        self.head = new_head\n",
    "    def check_in_bounds(self,pos):\n",
    "        return all(0 <=pos[x]< dim for x,dim in enumerate([COLS,ROWS]))\n",
    "\n",
    "    def die(self):\n",
    "        self.alpha=ALPHA\n",
    "        self.head=self.new_head_location\n",
    "        Animation(alpha=0,duration=MOVESPEED).start(self)\n",
    "        self.snake.clear()\n",
    "        self.lenght = LENGHT\n",
    "        self.root.clear_widgets()\n",
    "        self.fruit = self.new_fruit_location\n",
    "\n",
    "if __name__=='__main__':\n",
    "    Snake().run()\n"
   ]
  },
  {
   "cell_type": "markdown",
   "metadata": {},
   "source": [
    "#  DOKUMENTASI TUGAS PYGAME PEMROGRAMAN BERORIENTASI OBJECT\n",
    "\n",
    "<img src=023.png>"
   ]
  },
  {
   "cell_type": "markdown",
   "metadata": {},
   "source": [
    "# class dan method for snake\n",
    "\n",
    "<img src=024.png>\n",
    "class sprite mempunyai properti\n",
    "1. color merupakan bentuk permukaan dengan ukuran starlord\n",
    "\n",
    "<img src=025.png>\n",
    "class fruit mempunyai properti\n",
    "1. pass untuk mengatur posisi ulang fruit dengan random kordinat\n",
    "\n",
    "<img src=026.png>\n",
    "class snake mempunyai properti\n",
    "1. length merupakan bentuk permukaan dengan ukuran mob\n",
    "2. fruit yaitu letak koordinat dari image method\n",
    "3. on head untuk mengatur posisi ulang snake dengan random kordinat\n",
    "4. on snake untuk mengatur posisi ulang snake dengan random kordinat\n",
    "5. on strat untuk mengatur posisi awal snake dengan random kordinat\n",
    "6. on fruit  untuk mengatur posisi awal fruit dengan random kordinat\n",
    "7. key handler untuk mengubah posisi awal kunci kendali dengan random kordinat\n",
    "8. try_change_direction untuk mengubah posisi arah snkae dengan random koordinat\n",
    "9. new head location untuk mengatur ulang kepala snake sesuai random koordinat\n",
    "10. new fruit location untuk mengatur ulang fruit stelah snake makan pada random koordinat\n",
    "11. move untuk mengatur perpindahan snake dari titik ke titik sesuai random koordinat\n",
    "12. check in bound mengatur batasan snake dalam random koordinat\n",
    "13. die untuk mengatur ulang snake ketika mati"
   ]
  },
  {
   "cell_type": "markdown",
   "metadata": {},
   "source": [
    "# implementasi OOP\n",
    "\n",
    "Class adalah salah satu cara bagaimana kita membuat sebuah kode yang mempunyai behaviour tertentu dan lebih mudah dalam mengorganisasi berbagai fungsi dan state-nya. Dalam sebuah class kamu dapat menyimpan sebuah state tanpa harus membuat banyak state bila tidak menggunakan class.\n",
    "\n",
    "Dalam hal ini, kita dapat membuat sebuah objek yang memiliki variable dan method-nya sendiri. Dan setiap objek yang dihasilkan akan memiliki karakteristik yang berbeda dibandingkan objek lainnya. Dalam sebuah objek tentu ada variabel yang dapat diakses secara langsung (s) ataupun dirahasiakan (private). Dalam contoh ini kamu akan membuat sebuah class Product dan membuat dua objek dengan atribut yang berbeda dari class tersebut."
   ]
  },
  {
   "cell_type": "code",
   "execution_count": null,
   "metadata": {},
   "outputs": [],
   "source": [
    "class Snake(App):\n",
    "\n",
    "    sprite_size=kp.NumericProperty(SPRITE_SIZE)\n",
    "\n",
    "    head=kp.ListProperty([0,0])\n",
    "    snake=kp.ListProperty()\n",
    "    lenght=kp.NumericProperty(LENGHT)\n",
    "\n",
    "    fruit=kp.ListProperty([0,0])\n",
    "    fruit_sprite = kp.ObjectProperty(Fruit)\n",
    "\n",
    "    direction=kp.StringProperty(RIGHT,options=(LEFT,UP,RIGHT,DOWN))\n",
    "    block_input = kp.BooleanProperty(False)\n",
    "\n",
    "    alpha=kp.NumericProperty(0)\n",
    "\n",
    "    def on_head(self,*args):\n",
    "        self.snake = self.snake[-self.lenght:]+[self.head]\n",
    "\n",
    "    def on_snake(self,*args):\n",
    "        for index,coord in enumerate(self.snake):\n",
    "            sprite= SPRITES[index]\n",
    "            sprite.coord=coord\n",
    "            if not sprite.parent:\n",
    "                self.root.add_widget(sprite)"
   ]
  },
  {
   "cell_type": "markdown",
   "metadata": {},
   "source": [
    "objek adalah bentuk nyata dari class setiap objek itu memiliki atribut dan method yang dimiliki oleh class nya"
   ]
  },
  {
   "cell_type": "code",
   "execution_count": null,
   "metadata": {},
   "outputs": [],
   "source": [
    "self.snake.clear()\n",
    "self.lenght = LENGHT\n",
    "self.root.clear_widgets()\n",
    "self.fruit = self.new_fruit_location"
   ]
  },
  {
   "cell_type": "markdown",
   "metadata": {},
   "source": [
    "Inheritance (Pewarisan atau turunan) merupakan sebuah konsep dalam pemrograman yang paling penting, pada inheritance terdapat sebuah proses dimana sebuah class dapat mengakses semua property dan semua method yang terdapat dari class yang lainnya.ini salah satu bagian terpenting dari Object Oriented Programing (OOP) yaitu inheritance."
   ]
  },
  {
   "cell_type": "code",
   "execution_count": null,
   "metadata": {},
   "outputs": [],
   "source": [
    "class Sprite(Widget):\n",
    "    coord=kp.ListProperty([0,0])\n",
    "    bgcolor=kp.ListProperty([0,0,0,0])\n"
   ]
  },
  {
   "cell_type": "markdown",
   "metadata": {},
   "source": [
    "kemudian pass merupakan sebuah katakunci kosong yang berfungsi untuk mengkonstruksi sebuah looping, dan pass juga berfungsi untuk pengecekan apakah statement berjalan atau tidak, pass tersebut juga bisa kita gunakan untuk dummy looping, dummy if, dan dummy function."
   ]
  },
  {
   "cell_type": "code",
   "execution_count": null,
   "metadata": {},
   "outputs": [],
   "source": [
    "class Fruit(Sprite):\n",
    "    pass"
   ]
  }
 ],
 "metadata": {
  "kernelspec": {
   "display_name": "Python 3",
   "language": "python",
   "name": "python3"
  },
  "language_info": {
   "codemirror_mode": {
    "name": "ipython",
    "version": 3
   },
   "file_extension": ".py",
   "mimetype": "text/x-python",
   "name": "python",
   "nbconvert_exporter": "python",
   "pygments_lexer": "ipython3",
   "version": "3.7.1"
  }
 },
 "nbformat": 4,
 "nbformat_minor": 2
}
